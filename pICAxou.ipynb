{
 "cells": [
  {
   "cell_type": "markdown",
   "metadata": {},
   "source": [
    "# pICAxou\n",
    "\n",
    "parallel Independent Component Analyis for Xross 'Omics Unification (Unity?) "
   ]
  },
  {
   "cell_type": "code",
   "execution_count": 1,
   "metadata": {},
   "outputs": [],
   "source": [
    "import glob\n",
    "import multiprocessing\n",
    "import pickle\n",
    "\n",
    "import pandas as pd\n",
    "import numpy as np\n",
    "import tqdm\n",
    "from p_tqdm import p_map\n",
    "from pybedtools import BedTool\n",
    "import pyBigWig as bw\n",
    "from sklearn.decomposition import FastICA\n",
    "from sklearn.cluster import AgglomerativeClustering\n",
    "from scipy.spatial.distance import pdist, squareform\n",
    "import swifter\n",
    "\n",
    "%matplotlib inline"
   ]
  },
  {
   "cell_type": "markdown",
   "metadata": {},
   "source": [
    "## Generating data files"
   ]
  },
  {
   "cell_type": "code",
   "execution_count": 2,
   "metadata": {},
   "outputs": [],
   "source": [
    "gex = pd.read_excel('/Volumes/nimer/Bioinformatic-analyses/GLORIA/SN22 RNAseq DPF2 mice/results/SN22_R1/DESeq2_results/ALL-samples-blind-variance-stabilized-log2-counts.xlsx')"
   ]
  },
  {
   "cell_type": "code",
   "execution_count": 3,
   "metadata": {},
   "outputs": [],
   "source": [
    "KO_overlap = BedTool('/Volumes/nimer/Bioinformatic-analyses/GLORIA/2019_10_04_ATACseq/DPF2_KO/overlap/optimal_peak.narrowPeak.gz')\n",
    "FF_overlap = BedTool('/Volumes/nimer/Bioinformatic-analyses/GLORIA/2019_10_04_ATACseq/DPF2_FF/overlap/optimal_peak.narrowPeak.gz')"
   ]
  },
  {
   "cell_type": "code",
   "execution_count": 4,
   "metadata": {},
   "outputs": [],
   "source": [
    "atac = KO_overlap.cat(FF_overlap, postmerge=True).to_dataframe()"
   ]
  },
  {
   "cell_type": "code",
   "execution_count": 5,
   "metadata": {},
   "outputs": [],
   "source": [
    "FF_bws = {file.split('/')[-1].split('.')[0]: bw.open(file) for file in glob.glob('/Volumes/nimer/Bioinformatic-analyses/GLORIA/2019_10_04_ATACseq/DPF2_FF/bw/*fc.signal.bigwig')}\n",
    "KO_bws = {file.split('/')[-1].split('.')[0]: bw.open(file) for file in glob.glob('/Volumes/nimer/Bioinformatic-analyses/GLORIA/2019_10_04_ATACseq/DPF2_KO/bw/*fc.signal.bigwig')}"
   ]
  },
  {
   "cell_type": "code",
   "execution_count": 10,
   "metadata": {},
   "outputs": [
    {
     "data": {
      "application/vnd.jupyter.widget-view+json": {
       "model_id": "5d37f4c5140740f88ca81dfb467dcd69",
       "version_major": 2,
       "version_minor": 0
      },
      "text/plain": [
       "HBox(children=(IntProgress(value=0, description='Pandas Apply', max=126080, style=ProgressStyle(description_wi…"
      ]
     },
     "metadata": {},
     "output_type": "display_data"
    },
    {
     "name": "stdout",
     "output_type": "stream",
     "text": [
      "\n"
     ]
    },
    {
     "data": {
      "application/vnd.jupyter.widget-view+json": {
       "model_id": "e5bf3f9d2f8e45cbbc008421366947db",
       "version_major": 2,
       "version_minor": 0
      },
      "text/plain": [
       "HBox(children=(IntProgress(value=0, description='Pandas Apply', max=126080, style=ProgressStyle(description_wi…"
      ]
     },
     "metadata": {},
     "output_type": "display_data"
    },
    {
     "name": "stdout",
     "output_type": "stream",
     "text": [
      "\n"
     ]
    },
    {
     "data": {
      "application/vnd.jupyter.widget-view+json": {
       "model_id": "7c7d9ea400c24310ae176f10ef3c1a04",
       "version_major": 2,
       "version_minor": 0
      },
      "text/plain": [
       "HBox(children=(IntProgress(value=0, description='Pandas Apply', max=126080, style=ProgressStyle(description_wi…"
      ]
     },
     "metadata": {},
     "output_type": "display_data"
    },
    {
     "name": "stdout",
     "output_type": "stream",
     "text": [
      "\n"
     ]
    },
    {
     "data": {
      "application/vnd.jupyter.widget-view+json": {
       "model_id": "0b2b0a9afb8d4554926db10d52bb26b4",
       "version_major": 2,
       "version_minor": 0
      },
      "text/plain": [
       "HBox(children=(IntProgress(value=0, description='Pandas Apply', max=126080, style=ProgressStyle(description_wi…"
      ]
     },
     "metadata": {},
     "output_type": "display_data"
    },
    {
     "name": "stdout",
     "output_type": "stream",
     "text": [
      "\n"
     ]
    },
    {
     "data": {
      "application/vnd.jupyter.widget-view+json": {
       "model_id": "c326340f25b0400a8bf910b8fd930b66",
       "version_major": 2,
       "version_minor": 0
      },
      "text/plain": [
       "HBox(children=(IntProgress(value=0, description='Pandas Apply', max=126080, style=ProgressStyle(description_wi…"
      ]
     },
     "metadata": {},
     "output_type": "display_data"
    },
    {
     "name": "stdout",
     "output_type": "stream",
     "text": [
      "\n"
     ]
    },
    {
     "data": {
      "application/vnd.jupyter.widget-view+json": {
       "model_id": "101d0f6ff5114908a065c58aa72c044e",
       "version_major": 2,
       "version_minor": 0
      },
      "text/plain": [
       "HBox(children=(IntProgress(value=0, description='Pandas Apply', max=126080, style=ProgressStyle(description_wi…"
      ]
     },
     "metadata": {},
     "output_type": "display_data"
    },
    {
     "name": "stdout",
     "output_type": "stream",
     "text": [
      "\n"
     ]
    },
    {
     "data": {
      "application/vnd.jupyter.widget-view+json": {
       "model_id": "58b2da0890674b9da328e4ec43f853bd",
       "version_major": 2,
       "version_minor": 0
      },
      "text/plain": [
       "HBox(children=(IntProgress(value=0, description='Pandas Apply', max=126080, style=ProgressStyle(description_wi…"
      ]
     },
     "metadata": {},
     "output_type": "display_data"
    },
    {
     "name": "stdout",
     "output_type": "stream",
     "text": [
      "\n"
     ]
    }
   ],
   "source": [
    "for k,b in {**FF_bws, **KO_bws}.items():\n",
    "    atac[k[:-3]] = atac[['chrom','start', 'end']].swifter.apply(lambda x: b.stats(x[0], x[1], x[2])[0], axis=1)"
   ]
  },
  {
   "cell_type": "code",
   "execution_count": 12,
   "metadata": {},
   "outputs": [
    {
     "data": {
      "application/vnd.jupyter.widget-view+json": {
       "model_id": "3021040c0dd84018b29a265cb158630d",
       "version_major": 2,
       "version_minor": 0
      },
      "text/plain": [
       "HBox(children=(IntProgress(value=0, description='Pandas Apply', max=126080, style=ProgressStyle(description_wi…"
      ]
     },
     "metadata": {},
     "output_type": "display_data"
    },
    {
     "name": "stdout",
     "output_type": "stream",
     "text": [
      "\n"
     ]
    }
   ],
   "source": [
    "atac.index = atac[['chrom','start','end']].swifter.apply(lambda x: f'{x[0]}:{x[1]}-{x[2]}', axis=1)"
   ]
  },
  {
   "cell_type": "code",
   "execution_count": 13,
   "metadata": {},
   "outputs": [],
   "source": [
    "atac.to_csv('atac_signal.txt', header=True, index=True, sep=\"\\t\")"
   ]
  },
  {
   "cell_type": "code",
   "execution_count": 10,
   "metadata": {},
   "outputs": [],
   "source": [
    "atac = pd.read_csv('atac_signal.txt', header=0, index_col=0, sep=\"\\t\")"
   ]
  },
  {
   "cell_type": "code",
   "execution_count": 13,
   "metadata": {},
   "outputs": [],
   "source": [
    "atac_cols = ['DPF2_FF_1', 'DPF2_FF_2', 'DPF2_FF_3', 'DPF2_FF_4', 'DPF2_KO_1', 'DPF2_KO_2', 'DPF2_KO_4']"
   ]
  },
  {
   "cell_type": "code",
   "execution_count": 3,
   "metadata": {},
   "outputs": [],
   "source": [
    "cols =['WT1', 'WT2', 'WT3', 'FF1', 'FF2', 'FF3', 'HET1', 'HET2',\n",
    "       'HET3', 'HET4', 'KO1', 'KO2', 'KO3', 'KO4', 'KO5', 'KO6']"
   ]
  },
  {
   "cell_type": "markdown",
   "metadata": {},
   "source": [
    "## Cluster Stability"
   ]
  },
  {
   "cell_type": "code",
   "execution_count": 7,
   "metadata": {},
   "outputs": [],
   "source": [
    "def cluster_stability(corr_df, cluster_labels):\n",
    "    '''\n",
    "    https://doi.org/10.1186/s12864-017-4112-9\n",
    "    '''    \n",
    "    \n",
    "    m_corr = corr_df.copy()\n",
    "    \n",
    "    n_clusts = max(cluster_labels) + 1\n",
    "    n_components = len(m_corr)\n",
    "    m_corr['cluster'] = cluster_labels\n",
    "    m_corr.loc['cluster'] = np.append(cluster_labels, np.nan)\n",
    "    \n",
    "    m_corr = abs(m_corr)\n",
    "    \n",
    "    stability_index = []\n",
    "    \n",
    "    for clust in range(n_clusts):\n",
    "        internal_r = m_corr.loc[m_corr['cluster'] == clust, m_corr.loc['cluster'] == clust]\n",
    "        clust_size = len(internal_r)\n",
    "        internal_s = (1/ (clust_size**2)) * internal_r.values.sum()\n",
    "        \n",
    "        external_r = m_corr.loc[m_corr['cluster'] == clust, \n",
    "                                m_corr.loc['cluster'] != clust].drop(columns=['cluster'])\n",
    "        scale_ext = 1 / (clust_size * (n_components - clust_size))\n",
    "        external_s = scale_ext * external_r.values.sum()\n",
    "        \n",
    "        stability_index.append(internal_s - external_s)\n",
    "    \n",
    "    return np.mean(stability_index), stability_index\n",
    "        "
   ]
  },
  {
   "cell_type": "code",
   "execution_count": 8,
   "metadata": {},
   "outputs": [],
   "source": [
    "def kth_ICA(M, k, n_components):\n",
    "    '''\n",
    "    M is matrix\n",
    "    k is number of permutations per cluster to run\n",
    "    '''\n",
    "    \n",
    "    mk = np.array([]).reshape(M.shape[0],0)\n",
    "    for it in range(k):\n",
    "        ICA = FastICA(n_components=n_components, random_state=it)\n",
    "        mk = np.hstack((mk, ICA.fit_transform(M)))\n",
    "    \n",
    "    #euclidean distance based on 1-pearson coefficient for clustering\n",
    "    mk_corr = pd.DataFrame(mk).corr()\n",
    "    mk_dist = squareform(pdist(1 - abs(mk_corr))) \n",
    "    \n",
    "    ##Clustering to recover groups\n",
    "    AC = AgglomerativeClustering(n_clusters=n_components, affinity='precomputed', linkage='average')\n",
    "    labels = AC.fit(mk_dist).labels_\n",
    "    \n",
    "    return cluster_stability(pd.DataFrame(mk_corr), labels)"
   ]
  },
  {
   "cell_type": "markdown",
   "metadata": {},
   "source": [
    "### run on pegasus"
   ]
  },
  {
   "cell_type": "raw",
   "metadata": {},
   "source": [
    "gex_stability = p_map(kth_ICA, gex[cols], 100, [r for r in range(2, len(cols)+1)], num_cpus=8)\n",
    "gex_stability = {cluster: gex_stability[cluster] for cluster in range(len(gex_stability))}\n",
    "\n",
    "atac_stability = p_map(kth_ICA, atac[atac_cols], 100, [r for r in range(2, len(atac_cols)+1)], num_cpus=8)\n",
    "atac_stability = {cluster: atac_stability[cluster] for cluster in range(len(atac_stability))}\n",
    "\n",
    "with open('gex_stability.pkl', 'wb') as file:\n",
    "    pickle.dump(gex_stability, file)\n",
    "\n",
    "with open('atac_stability.pkl', 'wb') as file:\n",
    "    pickle.dump(atac_stability, file)"
   ]
  },
  {
   "cell_type": "markdown",
   "metadata": {},
   "source": [
    "## Stability determination"
   ]
  },
  {
   "cell_type": "code",
   "execution_count": 4,
   "metadata": {},
   "outputs": [],
   "source": [
    "with open('/Volumes/nimer/Bioinformatic-analyses/GLORIA/2019_10_04_ATACseq/Analyses/pica/gex_stability.pkl', 'rb') as file:\n",
    "    gex_stability = pickle.load(file)"
   ]
  },
  {
   "cell_type": "code",
   "execution_count": 6,
   "metadata": {},
   "outputs": [],
   "source": [
    "import matplotlib.pyplot as plt\n",
    "import seaborn as sns"
   ]
  },
  {
   "cell_type": "code",
   "execution_count": 20,
   "metadata": {},
   "outputs": [
    {
     "data": {
      "image/png": "[encoded data removed]",
      "text/plain": [
       "<Figure size 432x288 with 1 Axes>"
      ]
     },
     "metadata": {},
     "output_type": "display_data"
    }
   ],
   "source": [
    "sns.set(style='white', font='arial')\n",
    "\n",
    "for v in gex_stability.values():\n",
    "    y = sorted(v[1], reverse=True)\n",
    "    x = [k + 2 for k in range(len(y))]\n",
    "    \n",
    "    plt.plot(x,y)\n",
    "\n",
    "plt.ylim((0,1))\n",
    "sns.despine()"
   ]
  },
  {
   "cell_type": "code",
   "execution_count": 30,
   "metadata": {},
   "outputs": [],
   "source": [
    "all_y = []\n",
    "all_x = []\n",
    "for v in gex_stability.values():\n",
    "    y = sorted(v[1], reverse=True)\n",
    "    x = [k + 2 for k in range(len(y))]\n",
    "    \n",
    "    all_y = [*all_y, *y]\n",
    "    all_x = [*all_x, *x]"
   ]
  },
  {
   "cell_type": "code",
   "execution_count": 33,
   "metadata": {},
   "outputs": [],
   "source": [
    "def x2(x, a, b, c):\n",
    "    return (a * x**2) + (b * x) + c"
   ]
  },
  {
   "cell_type": "code",
   "execution_count": 34,
   "metadata": {},
   "outputs": [],
   "source": [
    "from scipy.optimize import curve_fit"
   ]
  },
  {
   "cell_type": "code",
   "execution_count": 35,
   "metadata": {},
   "outputs": [],
   "source": [
    "popt, pcov = curve_fit(x2, all_x, all_y)\n",
    "fit_y = [x2(x, *popt) for x in sorted(all_x, reverse=True)]"
   ]
  },
  {
   "cell_type": "code",
   "execution_count": 53,
   "metadata": {},
   "outputs": [],
   "source": [
    "from statsmodels.nonparametric import smoothers_lowess\n",
    "from scipy.interpolate import interp1d"
   ]
  },
  {
   "cell_type": "code",
   "execution_count": 56,
   "metadata": {},
   "outputs": [],
   "source": [
    "L = smoothers_lowess.lowess(all_y, all_x)\n",
    "interp = interp1d(L[:,0], L[:,1])\n",
    "low_y = interp(sorted(all_x, reverse=True))"
   ]
  },
  {
   "cell_type": "code",
   "execution_count": 58,
   "metadata": {},
   "outputs": [
    {
     "data": {
      "image/png": "[encoded data removed]",
      "text/plain": [
       "<Figure size 432x288 with 1 Axes>"
      ]
     },
     "metadata": {},
     "output_type": "display_data"
    }
   ],
   "source": [
    "sns.set(style='white', font='arial')\n",
    "\n",
    "for v in gex_stability.values():\n",
    "    y = sorted(v[1], reverse=True)\n",
    "    x = [k + 2 for k in range(len(y))]\n",
    "    \n",
    "    plt.plot(x,y)\n",
    "\n",
    "# 2nd order fit\n",
    "plt.plot(sorted(all_x, reverse=True), fit_y, 'k')\n",
    "# lowess fit\n",
    "plt.plot(sorted(all_x, reverse=True), low_y, 'r-')\n",
    "\n",
    "plt.ylim((0,1))\n",
    "\n",
    "sns.despine()\n"
   ]
  },
  {
   "cell_type": "code",
   "execution_count": 10,
   "metadata": {},
   "outputs": [],
   "source": [
    "with open('atac_stability.pkl', 'rb') as file:\n",
    "    atac_stability = pickle.load(file)"
   ]
  },
  {
   "cell_type": "code",
   "execution_count": 11,
   "metadata": {},
   "outputs": [],
   "source": [
    "atac_ave = [v[1][0] for v in atac_stability.values()]"
   ]
  },
  {
   "cell_type": "code",
   "execution_count": 21,
   "metadata": {},
   "outputs": [
    {
     "data": {
      "image/png": "[encoded data removed]",
      "text/plain": [
       "<Figure size 432x288 with 1 Axes>"
      ]
     },
     "metadata": {},
     "output_type": "display_data"
    }
   ],
   "source": [
    "sns.set(style='white', font='arial')\n",
    "\n",
    "for v in atac_stability.values():\n",
    "    y = sorted(v[1], reverse=True)\n",
    "    x = [k + 2 for k in range(len(y))]\n",
    "    \n",
    "    plt.plot(x,y)\n",
    "\n",
    "plt.ylim((0,1))\n",
    "sns.despine()"
   ]
  },
  {
   "cell_type": "markdown",
   "metadata": {},
   "source": [
    "Conclusion:  except for outlier, these seem stable out to max components"
   ]
  },
  {
   "cell_type": "markdown",
   "metadata": {},
   "source": [
    "## Parallel ICA"
   ]
  },
  {
   "cell_type": "markdown",
   "metadata": {},
   "source": [
    "- make a new pICA that inherits many of the sklearn estimators\n",
    "- add correlation step in the update"
   ]
  },
  {
   "cell_type": "code",
   "execution_count": 6,
   "metadata": {},
   "outputs": [
    {
     "data": {
      "text/plain": [
       "(0.6088926601838205,\n",
       " [0.5980445667169103,\n",
       "  -0.10672700022169135,\n",
       "  0.9777757641464989,\n",
       "  0.9664773100935639])"
      ]
     },
     "execution_count": 6,
     "metadata": {},
     "output_type": "execute_result"
    }
   ],
   "source": [
    "gex_stability[2]"
   ]
  },
  {
   "cell_type": "code",
   "execution_count": 4,
   "metadata": {},
   "outputs": [
    {
     "data": {
      "application/vnd.jupyter.widget-view+json": {
       "model_id": "f87959f4a6d4400798d24eeb2293e591",
       "version_major": 2,
       "version_minor": 0
      },
      "text/plain": [
       "HBox(children=(IntProgress(value=0), HTML(value='')))"
      ]
     },
     "metadata": {},
     "output_type": "display_data"
    },
    {
     "name": "stdout",
     "output_type": "stream",
     "text": [
      "\n"
     ]
    }
   ],
   "source": [
    "M = gex[cols].copy()\n",
    "\n",
    "mk = np.array([]).reshape(M.shape[0],0)\n",
    "\n",
    "\n",
    "for it in tqdm.notebook.tqdm(range(100)):\n",
    "    ICA = FastICA(n_components=4, random_state=it)\n",
    "    mk = np.hstack((mk, ICA.fit_transform(M)))\n",
    "\n",
    "#euclidean distance based on 1-pearson coefficient for clustering\n",
    "mk_corr = pd.DataFrame(mk).corr()\n",
    "mk_dist = squareform(pdist(1 - abs(mk_corr))) \n",
    "\n",
    "##Clustering to recover groups\n",
    "AC = AgglomerativeClustering(n_clusters=4, affinity='precomputed', linkage='average')\n",
    "labels = AC.fit(mk_dist).labels_\n"
   ]
  },
  {
   "cell_type": "markdown",
   "metadata": {},
   "source": [
    "## Parallel ICA"
   ]
  },
  {
   "cell_type": "code",
   "execution_count": null,
   "metadata": {},
   "outputs": [],
   "source": []
  },
  {
   "cell_type": "code",
   "execution_count": null,
   "metadata": {},
   "outputs": [],
   "source": []
  }
 ],
 "metadata": {
  "kernelspec": {
   "display_name": "Python [conda env:ML]",
   "language": "python",
   "name": "conda-env-ML-py"
  },
  "language_info": {
   "codemirror_mode": {
    "name": "ipython",
    "version": 3
   },
   "file_extension": ".py",
   "mimetype": "text/x-python",
   "name": "python",
   "nbconvert_exporter": "python",
   "pygments_lexer": "ipython3",
   "version": "3.6.7"
  }
 },
 "nbformat": 4,
 "nbformat_minor": 4
}
